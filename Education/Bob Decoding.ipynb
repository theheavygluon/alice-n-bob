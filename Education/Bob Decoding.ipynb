{
 "cells": [
  {
   "cell_type": "code",
   "execution_count": 1,
   "metadata": {},
   "outputs": [],
   "source": [
    "morse = { 'a':'.-', 'b':'-...','c':'-.-.', 'd':'-..', 'e':'.', \n",
    "         'f':'..-.', 'g':'--.', 'h':'....', 'i':'..', 'j':'.---', 'k':'-.-', \n",
    "         'l':'.-..', 'm':'--', 'n':'-.', 'o':'---', 'p':'.--.', 'q':'--.-', \n",
    "         'r':'.-.', 's':'...', 't':'-', 'u':'..-', 'v':'...-', 'w':'.--', \n",
    "         'x':'-..-', 'y':'-.--', 'z':'--..', '1':'.----', '2':'..---', '3':'...--', \n",
    "         '4':'....-', '5':'.....', '6':'-....', '7':'--...', '8':'---..', '9':'----.', \n",
    "         '0':'-----', ', ':'--..--', '.':'.-.-.-', '?':'..--..', '/':'-..-.', '-':'-....-', \n",
    "         '(':'-.--.', ')':'-.--.-'} \n",
    "\n",
    "def morse_to_string(morse_message):\n",
    "    message = \"\"\n",
    "    for lett in morse_message:\n",
    "        try:\n",
    "            message += list(morse.keys())[list(morse.values()).index(lett)]\n",
    "        except:\n",
    "            pass\n",
    "    return message\n",
    "\n",
    "def bin_to_morse(bin_message):\n",
    "    bin_message = bin_message.split(\"00\")\n",
    "    message = []\n",
    "    for lett in bin_message:\n",
    "        lett = lett.split(\"0\")\n",
    "        morse_ = \"\"\n",
    "        for char in lett:\n",
    "            if char == \"11\":\n",
    "                morse_ += \"-\"\n",
    "            elif char == \"1\":\n",
    "                morse_ += \".\"\n",
    "        message.append(morse_)\n",
    "    return message\n",
    "\n",
    "def bin_to_message(bin_message):\n",
    "    morse = bin_to_morse(bin_message)\n",
    "    return morse_to_string(morse)\n",
    "\n",
    "def decode_message(bin_message, key):\n",
    "    n = len(key)\n",
    "    l = len(bin_message)\n",
    "    div_message = [bin_message[i:i+n] for i in range(0, l, n)]\n",
    "    decoded_message = \"\"\n",
    "    for m in div_message:\n",
    "        for j, k in enumerate(m):\n",
    "            if k == key[j]:\n",
    "                decoded_message += \"0\"\n",
    "            else:\n",
    "                decoded_message += \"1\"\n",
    "    decoded_message = bin_to_message(decoded_message)\n",
    "    return decoded_message"
   ]
  },
  {
   "cell_type": "code",
   "execution_count": 4,
   "metadata": {},
   "outputs": [
    {
     "name": "stdout",
     "output_type": "stream",
     "text": [
      "The Decoded message from Alice is : qiskit\n"
     ]
    }
   ],
   "source": [
    "message_encoded = \"1110000100000100101001110110101010111100\" # input\n",
    "new_key_bob = \"0011101111\" # input\n",
    "message_decoded = decode_message(message_encoded, new_key_bob)\n",
    "print(f\"The Decoded message from Alice is : {message_decoded}\")"
   ]
  },
  {
   "cell_type": "code",
   "execution_count": null,
   "metadata": {},
   "outputs": [],
   "source": []
  }
 ],
 "metadata": {
  "kernelspec": {
   "display_name": "Python 3",
   "language": "python",
   "name": "python3"
  },
  "language_info": {
   "codemirror_mode": {
    "name": "ipython",
    "version": 3
   },
   "file_extension": ".py",
   "mimetype": "text/x-python",
   "name": "python",
   "nbconvert_exporter": "python",
   "pygments_lexer": "ipython3",
   "version": "3.8.3"
  }
 },
 "nbformat": 4,
 "nbformat_minor": 4
}
